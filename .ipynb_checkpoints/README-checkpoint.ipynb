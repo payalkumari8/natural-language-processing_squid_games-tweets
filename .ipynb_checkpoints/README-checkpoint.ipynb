{
 "cells": [
  {
   "cell_type": "markdown",
   "id": "fc4b4079",
   "metadata": {},
   "source": [
    "# Project outline \n",
    "\n",
    "The dataset contains the recent tweets about the record-breaking Netflix show \"Squid Game\". In this project spacy was installed in order to understand large volume of text.\n",
    "\n",
    "Here is the link to know more about the scapy library.\n",
    "https://spacy.io/usage/spacy-101\n",
    "\n",
    "and Natural Language Processing\n",
    "https://towardsdatascience.com/your-guide-to-natural-language-processing-nlp-48ea2511f6e1\n"
   ]
  }
 ],
 "metadata": {
  "kernelspec": {
   "display_name": "Python 3",
   "language": "python",
   "name": "python3"
  },
  "language_info": {
   "codemirror_mode": {
    "name": "ipython",
    "version": 3
   },
   "file_extension": ".py",
   "mimetype": "text/x-python",
   "name": "python",
   "nbconvert_exporter": "python",
   "pygments_lexer": "ipython3",
   "version": "3.8.8"
  }
 },
 "nbformat": 4,
 "nbformat_minor": 5
}
